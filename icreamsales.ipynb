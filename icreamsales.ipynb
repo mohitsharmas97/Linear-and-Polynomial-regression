{
  "nbformat": 4,
  "nbformat_minor": 0,
  "metadata": {
    "colab": {
      "provenance": [],
      "authorship_tag": "ABX9TyN9epKwFjEDqvqSY57fK6BY",
      "include_colab_link": true
    },
    "kernelspec": {
      "name": "python3",
      "display_name": "Python 3"
    },
    "language_info": {
      "name": "python"
    }
  },
  "cells": [
    {
      "cell_type": "markdown",
      "metadata": {
        "id": "view-in-github",
        "colab_type": "text"
      },
      "source": [
        "<a href=\"https://colab.research.google.com/github/mohitsharmas97/Linear-and-Polynomial-regression/blob/main/icreamsales.ipynb\" target=\"_parent\"><img src=\"https://colab.research.google.com/assets/colab-badge.svg\" alt=\"Open In Colab\"/></a>"
      ]
    },
    {
      "cell_type": "code",
      "execution_count": null,
      "metadata": {
        "id": "RK3nEfMpMtmi"
      },
      "outputs": [],
      "source": [
        "import pandas as pd\n",
        "import matplotlib.pyplot as plt\n",
        "import seaborn as sns"
      ]
    },
    {
      "cell_type": "code",
      "source": [
        "from google.colab import files\n",
        "uploaded=files.upload()"
      ],
      "metadata": {
        "id": "ljG6ZQMHNUPh"
      },
      "execution_count": null,
      "outputs": []
    },
    {
      "cell_type": "code",
      "source": [
        "dataset=pd.read_csv(\"Ice_cream selling data.csv\")\n",
        "dataset.head(4)"
      ],
      "metadata": {
        "id": "NooNwbc0NeuB"
      },
      "execution_count": null,
      "outputs": []
    },
    {
      "cell_type": "code",
      "source": [
        "dataset.shape"
      ],
      "metadata": {
        "id": "HjNzAK6HNmuD"
      },
      "execution_count": null,
      "outputs": []
    },
    {
      "cell_type": "code",
      "source": [
        "x=dataset.iloc[:,:-1]\n",
        "y=dataset[\"Ice Cream Sales (units)\"]"
      ],
      "metadata": {
        "id": "leD7fJ4yN4Ww"
      },
      "execution_count": null,
      "outputs": []
    },
    {
      "cell_type": "code",
      "source": [
        "x=dataset[[\"Temperature (°C)\"]]\n",
        "y=dataset[\"Ice Cream Sales (units)\"]"
      ],
      "metadata": {
        "id": "swTf1XwcOH9Y"
      },
      "execution_count": null,
      "outputs": []
    },
    {
      "cell_type": "code",
      "source": [
        "from sklearn.preprocessing import PolynomialFeatures"
      ],
      "metadata": {
        "id": "mHhGMWxpObMi"
      },
      "execution_count": null,
      "outputs": []
    },
    {
      "cell_type": "code",
      "source": [
        "pf=PolynomialFeatures(degree=2)\n",
        "pf.fit(x)\n",
        "x=pf.transform(x)"
      ],
      "metadata": {
        "id": "jAepkYuAP8uF"
      },
      "execution_count": null,
      "outputs": []
    },
    {
      "cell_type": "code",
      "source": [
        "from sklearn.model_selection import train_test_split\n",
        "x_train,x_test,y_train,y_test=train_test_split(x,y,test_size=0.2,random_state=43)"
      ],
      "metadata": {
        "id": "GxPAJ-aQOlM2"
      },
      "execution_count": null,
      "outputs": []
    },
    {
      "cell_type": "code",
      "source": [
        "from sklearn.linear_model import LinearRegression\n",
        "lr=LinearRegression()\n",
        "lr.fit(x_train,y_train)"
      ],
      "metadata": {
        "id": "NCkfhhk0O-fO"
      },
      "execution_count": null,
      "outputs": []
    },
    {
      "cell_type": "code",
      "source": [
        "prd=lr.predict(x)"
      ],
      "metadata": {
        "id": "eFRhwfq_RPOm"
      },
      "execution_count": null,
      "outputs": []
    },
    {
      "cell_type": "code",
      "source": [
        "plt.scatter(dataset[\"Temperature (°C)\"],dataset[\"Ice Cream Sales (units)\"])\n",
        "plt.plot(dataset[\"Temperature (°C)\"],prd,c='red')\n",
        "plt.xlabel(\"Temperature (°C)\")\n",
        "plt.ylabel(\"Ice Cream Sales (units)\")\n",
        "plt.legend([\"org\",\"prd\"])\n",
        "plt.show()"
      ],
      "metadata": {
        "id": "O2sh830cRHqU"
      },
      "execution_count": null,
      "outputs": []
    },
    {
      "cell_type": "code",
      "source": [
        "lr.score(x_test,y_test)"
      ],
      "metadata": {
        "id": "eUPUWWnEPrvq"
      },
      "execution_count": null,
      "outputs": []
    },
    {
      "cell_type": "code",
      "source": [
        "import joblib\n",
        "joblib.dump(lr, \"icecream_model.pkl\")"
      ],
      "metadata": {
        "id": "1-Pe74XrRjDh"
      },
      "execution_count": null,
      "outputs": []
    }
  ]
}